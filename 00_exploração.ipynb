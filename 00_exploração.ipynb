{
 "cells": [
  {
   "cell_type": "code",
   "execution_count": 3,
   "id": "d6085d50",
   "metadata": {},
   "outputs": [],
   "source": [
    "import numpy as np\n",
    "import pandas as pd\n",
    "import matplotlib.pyplot as plt\n",
    "import seaborn as sns\n",
    "import tensorflow as tf\n",
    "import tensorflow.keras as keras\n",
    "from tensorflow.keras.datasets import mnist\n",
    "from tensorflow.keras.models import Sequential\n",
    "from tensorflow.keras.layers import Dense, Dropout\n",
    "from tensorflow.keras.optimizers import RMSprop\n",
    "from tensorflow.keras.callbacks import EarlyStopping\n",
    "import tensorflow.keras as keras\n",
    "from tensorflow.keras.datasets import cifar10\n",
    "from tensorflow.keras.preprocessing.image import ImageDataGenerator\n",
    "from tensorflow.keras.models import Sequential\n",
    "from tensorflow.keras.layers import Dense, Dropout, Activation, Flatten\n",
    "from tensorflow.keras.layers import Conv2D, MaxPooling2D\n",
    "from tensorflow.keras.optimizers import RMSprop\n",
    "from src.data import data_prep\n",
    "\n"
   ]
  },
  {
   "cell_type": "code",
   "execution_count": 9,
   "id": "6f7e309d",
   "metadata": {},
   "outputs": [],
   "source": [
    "# Carregar os dados, embaralhados e divididos entre conjuntos de treino e teste (x_train e y_train)\n",
    "(x_train, y_train), (x_test, y_test) = mnist.load_data()\n",
    "mnist = keras.datasets.mnist"
   ]
  },
  {
   "cell_type": "code",
   "execution_count": 10,
   "id": "6a5d7944",
   "metadata": {},
   "outputs": [],
   "source": [
    "#Adicionar o ruído gaussiano\n",
    "#O nível de ruido vai ser regulado ao longo do processo pra aviliar o desempenho do modelo com diferentes níveis\n",
    "nivel_ruido = 0.5\n",
    "\n",
    "x_train_ruido = x_train + nivel_ruido * np.random.normal(loc = 0.0, scale = 1.0, size = x_train.shape)\n",
    "x_test_ruido = x_test + nivel_ruido * np.random.normal(loc = 0.0, scale = 1.0, size = x_test.shape)\n",
    "\n",
    "#limites para não ultrapassar o intervalo\n",
    "x_train_ruido = np.clip(x_train_ruido, 0.0, 1.0)\n",
    "x_test_ruido = np.clip(x_test_ruido, 0.0, 1.0)\n"
   ]
  },
  {
   "cell_type": "code",
   "execution_count": 11,
   "id": "ab4c4a4a",
   "metadata": {},
   "outputs": [
    {
     "data": {
      "text/plain": [
       "((60000, 28, 28), (60000, 28, 28))"
      ]
     },
     "execution_count": 11,
     "metadata": {},
     "output_type": "execute_result"
    }
   ],
   "source": [
    "x_train.shape , x_train_ruido.shape"
   ]
  },
  {
   "cell_type": "code",
   "execution_count": 12,
   "id": "ee32a085",
   "metadata": {},
   "outputs": [
    {
     "data": {
      "image/png": "[encoded data removed]",
      "text/plain": [
       "<Figure size 640x480 with 2 Axes>"
      ]
     },
     "metadata": {},
     "output_type": "display_data"
    }
   ],
   "source": [
    "#Comparar os dados com e sem ruído\n",
    "\n",
    "plt.subplot(1, 2, 1)\n",
    "plt.imshow(x_train_ruido[18], cmap='gray')\n",
    "plt.title('Imagem com Ruído')\n",
    "\n",
    "plt.subplot(1, 2, 2)\n",
    "plt.imshow(x_train[18], cmap='gray')\n",
    "plt.title('Imagem Original')\n",
    "\n",
    "plt.show()"
   ]
  }
 ],
 "metadata": {
  "kernelspec": {
   "display_name": "Python 3",
   "language": "python",
   "name": "python3"
  },
  "language_info": {
   "codemirror_mode": {
    "name": "ipython",
    "version": 3
   },
   "file_extension": ".py",
   "mimetype": "text/x-python",
   "name": "python",
   "nbconvert_exporter": "python",
   "pygments_lexer": "ipython3",
   "version": "3.11.9"
  }
 },
 "nbformat": 4,
 "nbformat_minor": 5
}
